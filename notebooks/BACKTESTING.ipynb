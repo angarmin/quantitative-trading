{
 "cells": [
  {
   "cell_type": "code",
   "execution_count": 1,
   "metadata": {},
   "outputs": [],
   "source": [
    "%load_ext autoreload\n",
    "%autoreload 2\n",
    "#pip install -U python-dotenv\n"
   ]
  },
  {
   "cell_type": "code",
   "execution_count": 2,
   "metadata": {},
   "outputs": [
    {
     "name": "stdout",
     "output_type": "stream",
     "text": [
      "running notebook configuration\n"
     ]
    }
   ],
   "source": [
    "%run ../nb_config.py  # place a .py to set root_path in order to be able to import from src folder"
   ]
  },
  {
   "cell_type": "code",
   "execution_count": 3,
   "metadata": {},
   "outputs": [],
   "source": [
    "path=os.environ.get('LOCAL_PATH')"
   ]
  },
  {
   "cell_type": "code",
   "execution_count": 4,
   "metadata": {},
   "outputs": [],
   "source": [
    "from statsmodels.tsa.stattools import adfuller\n",
    "from statsmodels.graphics.tsaplots import plot_acf, plot_pacf \n",
    "from sklearn.metrics import mean_squared_error, accuracy_score\n",
    "\n",
    "from src.data_api import sources\n",
    "from src import utils\n",
    "\n",
    "from src import data_preparation as dataprep\n",
    "\n",
    "import pandas as pd\n",
    "import numpy as np\n",
    "\n",
    "import random as rd\n",
    "\n",
    "import seaborn as sns\n",
    "from sklearn.ensemble import RandomForestRegressor\n",
    "\n",
    "\n",
    "state = rd.getstate()\n",
    "rd.setstate(state)\n",
    " "
   ]
  },
  {
   "cell_type": "code",
   "execution_count": 5,
   "metadata": {},
   "outputs": [],
   "source": [
    "conf = utils.get_conf()"
   ]
  },
  {
   "cell_type": "markdown",
   "metadata": {},
   "source": [
    "# Load Data"
   ]
  },
  {
   "cell_type": "code",
   "execution_count": 6,
   "metadata": {},
   "outputs": [],
   "source": [
    "wiki_prices=pd.read_pickle(path+\"data/processed/wiki_prices.pkl\")\n",
    "test=pd.read_pickle(path+\"data/processed/test.pkl\")"
   ]
  },
  {
   "cell_type": "markdown",
   "metadata": {},
   "source": [
    "# Testing"
   ]
  },
  {
   "cell_type": "code",
   "execution_count": 7,
   "metadata": {},
   "outputs": [],
   "source": [
    "#lets create columns to compare\n",
    "# doing random movements: \n",
    "#1-> long, 0 stay, -1 short\n",
    "test[\"rd_movement\"]= np.array(pd.Series(rd.choices([1,0,-1], k=test.shape[0])))"
   ]
  },
  {
   "cell_type": "code",
   "execution_count": 8,
   "metadata": {},
   "outputs": [],
   "source": [
    "# always buying/always selling\n",
    "\n",
    "test[\"all_long\"]= 1\n",
    "test[\"all_short\"]= -1\n",
    "\n",
    "#always doing what the sign tell\n",
    "tau=5\n",
    "test[\"sign\"]=  np.sign(test[\"x_diff5d\"]) \n",
    " "
   ]
  },
  {
   "cell_type": "code",
   "execution_count": 9,
   "metadata": {},
   "outputs": [
    {
     "data": {
      "text/plain": [
       "True"
      ]
     },
     "execution_count": 9,
     "metadata": {},
     "output_type": "execute_result"
    }
   ],
   "source": [
    "sum(np.sign(test[\"x_returns5d\"])) ==  sum(np.sign(test[\"x_diff5d\"]))"
   ]
  },
  {
   "cell_type": "code",
   "execution_count": 10,
   "metadata": {},
   "outputs": [
    {
     "name": "stdout",
     "output_type": "stream",
     "text": [
      "max possible :  52567.8498773744\n",
      "total rd :  -794.7517435145991\n",
      "total all_long :  -3328.224737499998\n",
      "total all_short :  3328.224737499998\n",
      "total current 5 sign :  2243.4505253458\n"
     ]
    }
   ],
   "source": [
    "print(\"max possible : \" ,(np.abs(test[\"diff_target\"]).sum()))\n",
    "print(\"total rd : \" ,(test[\"diff_target\"]*test[\"rd_movement\"]).sum())\n",
    "print(\"total all_long : \" ,(test[\"diff_target\"]*test[\"all_long\"]).sum())\n",
    "print(\"total all_short : \" ,(test[\"diff_target\"]*test[\"all_short\"]).sum())\n",
    "print(\"total current 5 sign : \" ,(test[\"diff_target\"]*test[\"sign\"]).sum())\n",
    "#print(\"total current ln5 sign : \" ,(wiki_prices[\"diff\"]*wiki_prices[\"sign\"]).sum())"
   ]
  },
  {
   "cell_type": "code",
   "execution_count": 11,
   "metadata": {},
   "outputs": [
    {
     "data": {
      "text/plain": [
       "(array([14860.,     0.,     0.,     0.,     0.,   136.,     0.,     0.,\n",
       "            0., 14504.]),\n",
       " array([-1. , -0.8, -0.6, -0.4, -0.2,  0. ,  0.2,  0.4,  0.6,  0.8,  1. ]),\n",
       " <BarContainer object of 10 artists>)"
      ]
     },
     "execution_count": 11,
     "metadata": {},
     "output_type": "execute_result"
    },
    {
     "data": {
      "image/png": "[encoded data removed]",
      "text/plain": [
       "<Figure size 864x432 with 1 Axes>"
      ]
     },
     "metadata": {
      "needs_background": "light"
     },
     "output_type": "display_data"
    }
   ],
   "source": [
    "# distribución sign\n",
    "plt.hist(test[\"sign\"].astype(\"category\"))\n"
   ]
  },
  {
   "cell_type": "markdown",
   "metadata": {},
   "source": [
    "## USING LOG RETURNS"
   ]
  },
  {
   "cell_type": "code",
   "execution_count": 12,
   "metadata": {},
   "outputs": [
    {
     "data": {
      "text/plain": [
       "<seaborn.axisgrid.FacetGrid at 0x7f36df299e20>"
      ]
     },
     "execution_count": 12,
     "metadata": {},
     "output_type": "execute_result"
    },
    {
     "data": {
      "image/png": "[encoded data removed]",
      "text/plain": [
       "<Figure size 360x360 with 1 Axes>"
      ]
     },
     "metadata": {
      "needs_background": "light"
     },
     "output_type": "display_data"
    }
   ],
   "source": [
    "sns.displot(wiki_prices, x=wiki_prices[\"x_returns5d\"], kind=\"kde\")\n"
   ]
  },
  {
   "cell_type": "code",
   "execution_count": 13,
   "metadata": {},
   "outputs": [
    {
     "data": {
      "text/plain": [
       "<seaborn.axisgrid.FacetGrid at 0x7f36d0fb4340>"
      ]
     },
     "execution_count": 13,
     "metadata": {},
     "output_type": "execute_result"
    },
    {
     "data": {
      "image/png": "[encoded data removed]",
      "text/plain": [
       "<Figure size 360x360 with 1 Axes>"
      ]
     },
     "metadata": {
      "needs_background": "light"
     },
     "output_type": "display_data"
    }
   ],
   "source": [
    "sns.displot(wiki_prices[(wiki_prices[\"x_returns5d\"]>-0.1) & (wiki_prices[\"x_returns5d\"]< 0.1)], x=\"x_returns5d\" , bins=50 )\n"
   ]
  },
  {
   "cell_type": "code",
   "execution_count": 14,
   "metadata": {},
   "outputs": [
    {
     "data": {
      "text/plain": [
       "<seaborn.axisgrid.FacetGrid at 0x7f36d0fb4b50>"
      ]
     },
     "execution_count": 14,
     "metadata": {},
     "output_type": "execute_result"
    },
    {
     "data": {
      "image/png": "[encoded data removed]",
      "text/plain": [
       "<Figure size 360x360 with 1 Axes>"
      ]
     },
     "metadata": {
      "needs_background": "light"
     },
     "output_type": "display_data"
    }
   ],
   "source": [
    "sns.displot(wiki_prices, x=wiki_prices[\"x_diff5d\"], kind=\"kde\")\n"
   ]
  },
  {
   "cell_type": "code",
   "execution_count": 15,
   "metadata": {},
   "outputs": [
    {
     "data": {
      "text/plain": [
       "count   377,008.0000\n",
       "mean          0.0002\n",
       "std           0.0645\n",
       "min          -2.1580\n",
       "25%          -0.0216\n",
       "50%           0.0020\n",
       "75%           0.0242\n",
       "max           3.8063\n",
       "Name: x_returns5d, dtype: float64"
      ]
     },
     "execution_count": 15,
     "metadata": {},
     "output_type": "execute_result"
    }
   ],
   "source": [
    "wiki_prices.x_returns5d.describe()"
   ]
  },
  {
   "cell_type": "code",
   "execution_count": 16,
   "metadata": {},
   "outputs": [],
   "source": [
    "#lets make 0.01 intervals\n",
    "thresholds=np.arange( 0, 0.1, 0.001).tolist()\n",
    "total_gain=[]"
   ]
  },
  {
   "cell_type": "code",
   "execution_count": 17,
   "metadata": {},
   "outputs": [],
   "source": [
    "for th in thresholds:\n",
    "    movement =   wiki_prices[\"x_returns5d\"].apply(lambda x: np.sign(x) if np.abs(x)>th else 0)\n",
    "    total_gain.append((wiki_prices[\"diff_target\"]*movement ).sum())"
   ]
  },
  {
   "cell_type": "code",
   "execution_count": 18,
   "metadata": {},
   "outputs": [
    {
     "data": {
      "image/png": "[encoded data removed]",
      "text/plain": [
       "<Figure size 864x432 with 1 Axes>"
      ]
     },
     "metadata": {
      "needs_background": "light"
     },
     "output_type": "display_data"
    }
   ],
   "source": [
    "plt.plot(thresholds,total_gain)\n",
    "plt.ylabel('  total_gain')\n",
    "plt.xlabel('threshold')\n",
    "\n",
    "plt.show()"
   ]
  },
  {
   "cell_type": "markdown",
   "metadata": {},
   "source": [
    "always loosing money "
   ]
  },
  {
   "cell_type": "markdown",
   "metadata": {},
   "source": [
    "## Training a random Forest"
   ]
  },
  {
   "cell_type": "code",
   "execution_count": 19,
   "metadata": {},
   "outputs": [],
   "source": [
    "train_features=wiki_prices[[\"x_returns5d\",\"x_diff5d\",\"x_returns1y\",\"x_diff1y\",\"x_returns_1y_sdmean\",\"x_returns_1y_zscr\",\"x_returns_1y_tsmooth\"]]\n",
    "train_target=wiki_prices[\"target\"]\n",
    "\n",
    "test_features=test[[\"x_returns5d\",\"x_diff5d\",\"x_returns1y\",\"x_diff1y\",\"x_returns_1y_sdmean\",\"x_returns_1y_zscr\",\"x_returns_1y_tsmooth\"]]\n",
    "test_target=test[\"target\"]"
   ]
  },
  {
   "cell_type": "code",
   "execution_count": null,
   "metadata": {},
   "outputs": [],
   "source": [
    "# Import the model we are using\n",
    "# Instantiate model with 1000 decision trees\n",
    "rf = RandomForestRegressor(  random_state = 42)\n",
    "# Train the model on training data\n",
    "rf.fit(train_features, train_target) "
   ]
  },
  {
   "cell_type": "code",
   "execution_count": null,
   "metadata": {},
   "outputs": [],
   "source": [
    "print(\"RF train accuracy: %0.3f\" % rf.score(train_features, train_target))\n",
    "print(\"RF test accuracy: %0.3f\" % rf.score(test_features, test_target))\n",
    "#provides the coefficient of determination (R**2) "
   ]
  },
  {
   "cell_type": "code",
   "execution_count": null,
   "metadata": {},
   "outputs": [],
   "source": [
    "sorted_idx = rf.feature_importances_.argsort()\n",
    "plt.barh(train_features.columns[sorted_idx], rf.feature_importances_[sorted_idx])\n",
    "plt.xlabel(\"Random Forest Feature Importance\")"
   ]
  },
  {
   "cell_type": "code",
   "execution_count": null,
   "metadata": {},
   "outputs": [],
   "source": []
  }
 ],
 "metadata": {
  "kernelspec": {
   "display_name": "Python 3 (ipykernel)",
   "language": "python",
   "name": "python3"
  },
  "language_info": {
   "codemirror_mode": {
    "name": "ipython",
    "version": 3
   },
   "file_extension": ".py",
   "mimetype": "text/x-python",
   "name": "python",
   "nbconvert_exporter": "python",
   "pygments_lexer": "ipython3",
   "version": "3.8.5"
  },
  "toc": {
   "base_numbering": 1,
   "nav_menu": {},
   "number_sections": true,
   "sideBar": true,
   "skip_h1_title": false,
   "title_cell": "Table of Contents",
   "title_sidebar": "Contents",
   "toc_cell": false,
   "toc_position": {},
   "toc_section_display": true,
   "toc_window_display": false
  }
 },
 "nbformat": 4,
 "nbformat_minor": 4
}
