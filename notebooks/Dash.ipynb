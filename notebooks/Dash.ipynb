{
 "cells": [
  {
   "cell_type": "markdown",
   "id": "68e8799c",
   "metadata": {},
   "source": [
    "#  Seting environment an loading"
   ]
  },
  {
   "cell_type": "code",
   "execution_count": 1,
   "id": "539fd041",
   "metadata": {},
   "outputs": [
    {
     "name": "stdout",
     "output_type": "stream",
     "text": [
      "running notebook configuration\n"
     ]
    }
   ],
   "source": [
    "%load_ext autoreload\n",
    "%autoreload 2\n",
    "%run ../nb_config.py "
   ]
  },
  {
   "cell_type": "code",
   "execution_count": 2,
   "id": "37724f09",
   "metadata": {},
   "outputs": [],
   "source": [
    "path=os.environ.get('LOCAL_PATH')"
   ]
  },
  {
   "cell_type": "code",
   "execution_count": 3,
   "id": "c6067fd8",
   "metadata": {},
   "outputs": [],
   "source": [
    "from statsmodels.tsa.stattools import adfuller\n",
    "from statsmodels.graphics.tsaplots import plot_acf, plot_pacf \n",
    "from sklearn.metrics import mean_squared_error, accuracy_score\n",
    "\n",
    "from src.data_api import sources\n",
    "from src import utils\n",
    "\n",
    " \n",
    "import pandas as pd\n",
    "import numpy as np \n",
    "import random as rd\n",
    "\n",
    "import seaborn as sns\n",
    "  \n",
    "  "
   ]
  },
  {
   "cell_type": "code",
   "execution_count": 4,
   "id": "a86ec2e1",
   "metadata": {},
   "outputs": [],
   "source": [
    "import dash\n",
    "from dash import html\n",
    "from dash import dcc\n",
    "import dash_bootstrap_components as dbc\n",
    "import plotly.graph_objects as go\n",
    "import plotly.express as px\n",
    "from dash.dependencies import Input, Output\n",
    "from datetime import time , timedelta, date ,datetime"
   ]
  },
  {
   "cell_type": "code",
   "execution_count": 5,
   "id": "6604c045",
   "metadata": {},
   "outputs": [],
   "source": [
    "conf = utils.get_conf()"
   ]
  },
  {
   "cell_type": "code",
   "execution_count": 6,
   "id": "4e3aac54",
   "metadata": {},
   "outputs": [],
   "source": [
    "wiki_prices=pd.read_pickle(path+\"data/processed/wiki_prices.pkl\")"
   ]
  },
  {
   "cell_type": "code",
   "execution_count": 7,
   "id": "27ca05ef",
   "metadata": {},
   "outputs": [],
   "source": [
    "wiki_prices=wiki_prices[[  'adj_close',\n",
    "       'adj_volume', 'sector', 'target', 'x_returns5d', 'x_diff5d',\n",
    "       'diff_target', 'x_returns1d', 'x_returns1y', 'x_diff1y',\n",
    "       'x_returns_1y_sdmean', 'x_returns_1y_zscr', 'x_returns_1y_tsmooth',\n",
    "      ]]"
   ]
  },
  {
   "cell_type": "code",
   "execution_count": 8,
   "id": "c980d995",
   "metadata": {},
   "outputs": [],
   "source": [
    "x_cols_to_visualize= [  'adj_close',\n",
    "       'adj_volume', 'sector',   'x_returns5d', 'x_diff5d',\n",
    "       'diff_target', 'x_returns1d', 'x_returns1y', 'x_diff1y',\n",
    "       'x_returns_1y_sdmean', 'x_returns_1y_zscr', 'x_returns_1y_tsmooth',\n",
    "      ]"
   ]
  },
  {
   "cell_type": "code",
   "execution_count": 9,
   "id": "ecea2dd2",
   "metadata": {},
   "outputs": [],
   "source": [
    "wiki_prices=wiki_prices[wiki_prices.index.isin([\"AAPL\",\"AMZN\",\"GOOG\",\"FB\"],level=\"ticker\")]"
   ]
  },
  {
   "cell_type": "code",
   "execution_count": 10,
   "id": "be7c4e9e",
   "metadata": {},
   "outputs": [],
   "source": [
    "tickers=pd.unique(wiki_prices.index.get_level_values(\"ticker\"))\n"
   ]
  },
  {
   "cell_type": "markdown",
   "id": "4c15061b",
   "metadata": {},
   "source": [
    "# Dash parameters"
   ]
  },
  {
   "cell_type": "code",
   "execution_count": 11,
   "id": "7be106cd",
   "metadata": {},
   "outputs": [],
   "source": [
    "# the style arguments for the sidebar.\n",
    "SIDEBAR_STYLE = {\n",
    "    'position': 'fixed',\n",
    "    'top': 0,\n",
    "    'left': 0,\n",
    "    'bottom': 0,\n",
    "    'width': '20%',\n",
    "    'padding': '20px 10px',\n",
    "    'background-color': '#f8f9fa'\n",
    "}\n",
    "\n",
    "# the style arguments for the main content page.\n",
    "CONTENT_STYLE = {\n",
    "    'margin-left': '25%',\n",
    "    'margin-right': '5%',\n",
    "    'top': 0,\n",
    "    'padding': '20px 10px'\n",
    "}\n",
    "\n",
    "TEXT_STYLE = {\n",
    "    'textAlign': 'center',\n",
    "    'color': '#191970'\n",
    "}\n",
    "\n",
    "CARD_TEXT_STYLE = {\n",
    "    'textAlign': 'center',\n",
    "    'color': '#0074D9'\n",
    "}"
   ]
  },
  {
   "cell_type": "code",
   "execution_count": 12,
   "id": "62d34398",
   "metadata": {},
   "outputs": [],
   "source": [
    "controls = html.Div(  \n",
    "    [\n",
    "        html.P('Ticker', style={\n",
    "            'textAlign': 'center'\n",
    "        }),\n",
    "        dcc.Dropdown(\n",
    "            id='dropdown_ticker',\n",
    "            options=[{'label': ticker, 'value': ticker} for ticker in tickers],\n",
    "            value=['AMZN', 'AAPL'],\n",
    "            multi=True \n",
    "        ),\n",
    "        html.Br(),\n",
    "        html.P('Feat', style={\n",
    "            'textAlign': 'center'\n",
    "        }),\n",
    "        dcc.Dropdown(\n",
    "            id='dropdown_feat',\n",
    "            options=[{'label': feat, 'value': feat} for feat in wiki_prices.columns],\n",
    "            value='adj_close',\n",
    "            multi=False \n",
    "        ),\n",
    "        html.Br(),\n",
    "\n",
    "        html.P('Range Slider', style={\n",
    "            'textAlign': 'center'\n",
    "        }),\n",
    "        dcc.RangeSlider(\n",
    "            id='range_slider',\n",
    "            min=0,\n",
    "            max=20,\n",
    "            step=0.5,\n",
    "            value=[5, 15]\n",
    "        ),\n",
    "        html.P('Check Box', style={\n",
    "            'textAlign': 'center'\n",
    "        }),\n",
    "        html.Br(),\n",
    "        html.P('Radio Items', style={\n",
    "            'textAlign': 'center'\n",
    "        }),\n",
    "\n",
    "    ]\n",
    ")"
   ]
  },
  {
   "cell_type": "code",
   "execution_count": 13,
   "id": "972e1aa5",
   "metadata": {},
   "outputs": [],
   "source": [
    "sidebar = html.Div(\n",
    "    [\n",
    "        html.H2('Parameters', style=TEXT_STYLE),\n",
    "        html.Hr(),\n",
    "        controls\n",
    "    ],\n",
    "    style=SIDEBAR_STYLE,\n",
    ")"
   ]
  },
  {
   "cell_type": "code",
   "execution_count": 14,
   "id": "4c1f48ea",
   "metadata": {},
   "outputs": [],
   "source": [
    "content_first_row = dbc.Row( html.Div( dcc.Graph(id = 'simple_feat_plot' )))"
   ]
  },
  {
   "cell_type": "code",
   "execution_count": 15,
   "id": "34d005e5",
   "metadata": {},
   "outputs": [],
   "source": [
    "content = html.Div(\n",
    "    [\n",
    "        html.H2('Analytics Dashboard Template', style=TEXT_STYLE),\n",
    "        html.Hr(),\n",
    "        content_first_row,\n",
    "        #content_second_row,\n",
    "        #content_third_row,\n",
    "        #content_fourth_row\n",
    "    ],\n",
    "    style=CONTENT_STYLE\n",
    ")"
   ]
  },
  {
   "cell_type": "code",
   "execution_count": 16,
   "id": "251ed149",
   "metadata": {},
   "outputs": [],
   "source": [
    "app = dash.Dash(external_stylesheets=[dbc.themes.BOOTSTRAP])\n",
    "app.layout = html.Div([sidebar, content])"
   ]
  },
  {
   "cell_type": "code",
   "execution_count": 17,
   "id": "005febcd",
   "metadata": {},
   "outputs": [],
   "source": [
    "#callbacks\n",
    "@app.callback(\n",
    "    Output(\"simple_feat_plot\", \"figure\"), \n",
    "    [Input(\"dropdown_ticker\", \"value\") ,   Input(\"dropdown_feat\", \"value\")])\n",
    "    \n",
    "def simple_feat_plot( tickers,feat    ):\n",
    "    df=wiki_prices.copy()\n",
    "\n",
    "    fig = go.Figure()\n",
    "    for ticker in tickers:\n",
    "        fig.add_trace(go.Scatter(\n",
    "        name=ticker,\n",
    "        mode=\"lines\", x=df.index.get_level_values(\"date\"), y=df.loc[ticker,feat],\n",
    "    ))\n",
    "\n",
    "    fig.update_xaxes(showgrid=True, ticklabelmode=\"period\")\n",
    "    fig.update_layout(xaxis_title=\"date\", yaxis_title=feat)\n",
    "    return fig\n",
    "\n",
    "\n",
    "##### me quede por aquí "
   ]
  },
  {
   "cell_type": "code",
   "execution_count": null,
   "id": "5b178d84",
   "metadata": {},
   "outputs": [
    {
     "name": "stdout",
     "output_type": "stream",
     "text": [
      "Dash is running on http://127.0.0.1:8050/\n",
      "\n",
      " * Serving Flask app \"__main__\" (lazy loading)\n",
      " * Environment: production\n",
      "\u001b[31m   WARNING: This is a development server. Do not use it in a production deployment.\u001b[0m\n",
      "\u001b[2m   Use a production WSGI server instead.\u001b[0m\n",
      " * Debug mode: off\n"
     ]
    },
    {
     "name": "stderr",
     "output_type": "stream",
     "text": [
      " * Running on http://127.0.0.1:8050/ (Press CTRL+C to quit)\n",
      "127.0.0.1 - - [04/Nov/2021 17:02:14] \"GET / HTTP/1.1\" 200 -\n",
      "127.0.0.1 - - [04/Nov/2021 17:02:14] \"GET /_dash-component-suites/dash/deps/polyfill@7.v2_0_0m1632235559.12.1.min.js HTTP/1.1\" 200 -\n",
      "127.0.0.1 - - [04/Nov/2021 17:02:14] \"GET /_dash-component-suites/dash/dash-renderer/build/dash_renderer.v2_0_0m1632235559.min.js HTTP/1.1\" 200 -\n",
      "127.0.0.1 - - [04/Nov/2021 17:02:14] \"GET /_dash-component-suites/dash_bootstrap_components/_components/dash_bootstrap_components.v1_0_1-rc1m1635501592.min.js HTTP/1.1\" 200 -\n",
      "127.0.0.1 - - [04/Nov/2021 17:02:14] \"GET /_dash-component-suites/dash/deps/react-dom@16.v2_0_0m1632235559.14.0.min.js HTTP/1.1\" 200 -\n",
      "127.0.0.1 - - [04/Nov/2021 17:02:14] \"GET /_dash-component-suites/dash/deps/prop-types@15.v2_0_0m1632235559.7.2.min.js HTTP/1.1\" 200 -\n",
      "127.0.0.1 - - [04/Nov/2021 17:02:14] \"GET /_dash-component-suites/dash/deps/react@16.v2_0_0m1632235559.14.0.min.js HTTP/1.1\" 200 -\n",
      "127.0.0.1 - - [04/Nov/2021 17:02:14] \"GET /_dash-component-suites/dash/dcc/dash_core_components.v2_0_0m1632235559.js HTTP/1.1\" 200 -\n",
      "127.0.0.1 - - [04/Nov/2021 17:02:14] \"GET /_dash-component-suites/dash/dcc/dash_core_components-shared.v2_0_0m1632235559.js HTTP/1.1\" 200 -\n",
      "127.0.0.1 - - [04/Nov/2021 17:02:14] \"GET /_dash-component-suites/dash/html/dash_html_components.v2_0_0m1632235559.min.js HTTP/1.1\" 200 -\n",
      "127.0.0.1 - - [04/Nov/2021 17:02:14] \"GET /_dash-component-suites/dash/dash_table/bundle.v5_0_0m1632235559.js HTTP/1.1\" 200 -\n",
      "127.0.0.1 - - [04/Nov/2021 17:02:14] \"GET /_dash-layout HTTP/1.1\" 200 -\n",
      "127.0.0.1 - - [04/Nov/2021 17:02:14] \"GET /_dash-dependencies HTTP/1.1\" 200 -\n",
      "127.0.0.1 - - [04/Nov/2021 17:02:14] \"GET /_dash-component-suites/dash/dcc/async-dropdown.js HTTP/1.1\" 200 -\n",
      "127.0.0.1 - - [04/Nov/2021 17:02:14] \"GET /_dash-component-suites/dash/dcc/async-slider.js HTTP/1.1\" 200 -\n",
      "127.0.0.1 - - [04/Nov/2021 17:02:14] \"GET /_dash-component-suites/dash/dcc/async-graph.js HTTP/1.1\" 200 -\n",
      "127.0.0.1 - - [04/Nov/2021 17:02:14] \"GET /_dash-component-suites/dash/dcc/async-plotlyjs.js HTTP/1.1\" 200 -\n",
      "127.0.0.1 - - [04/Nov/2021 17:02:14] \"POST /_dash-update-component HTTP/1.1\" 200 -\n",
      "127.0.0.1 - - [04/Nov/2021 17:04:34] \"POST /_dash-update-component HTTP/1.1\" 200 -\n",
      "127.0.0.1 - - [04/Nov/2021 17:04:35] \"POST /_dash-update-component HTTP/1.1\" 200 -\n",
      "127.0.0.1 - - [04/Nov/2021 17:04:36] \"POST /_dash-update-component HTTP/1.1\" 200 -\n",
      "127.0.0.1 - - [04/Nov/2021 17:04:37] \"POST /_dash-update-component HTTP/1.1\" 200 -\n",
      "127.0.0.1 - - [04/Nov/2021 17:04:52] \"POST /_dash-update-component HTTP/1.1\" 200 -\n",
      "127.0.0.1 - - [04/Nov/2021 17:04:55] \"POST /_dash-update-component HTTP/1.1\" 200 -\n",
      "127.0.0.1 - - [04/Nov/2021 17:05:13] \"POST /_dash-update-component HTTP/1.1\" 200 -\n",
      "127.0.0.1 - - [04/Nov/2021 17:05:18] \"POST /_dash-update-component HTTP/1.1\" 200 -\n",
      "127.0.0.1 - - [04/Nov/2021 17:05:21] \"POST /_dash-update-component HTTP/1.1\" 200 -\n",
      "127.0.0.1 - - [04/Nov/2021 17:05:35] \"POST /_dash-update-component HTTP/1.1\" 200 -\n"
     ]
    }
   ],
   "source": [
    "#calling the app\n",
    "if __name__ == '__main__': \n",
    "    app.run_server(host='127.0.0.1', port='8050', debug=False)"
   ]
  },
  {
   "cell_type": "code",
   "execution_count": null,
   "id": "708b3541",
   "metadata": {},
   "outputs": [],
   "source": []
  },
  {
   "cell_type": "code",
   "execution_count": null,
   "id": "9de494e4",
   "metadata": {},
   "outputs": [],
   "source": []
  }
 ],
 "metadata": {
  "kernelspec": {
   "display_name": "Python 3 (ipykernel)",
   "language": "python",
   "name": "python3"
  },
  "language_info": {
   "codemirror_mode": {
    "name": "ipython",
    "version": 3
   },
   "file_extension": ".py",
   "mimetype": "text/x-python",
   "name": "python",
   "nbconvert_exporter": "python",
   "pygments_lexer": "ipython3",
   "version": "3.8.5"
  },
  "toc": {
   "base_numbering": 1,
   "nav_menu": {},
   "number_sections": true,
   "sideBar": true,
   "skip_h1_title": false,
   "title_cell": "Table of Contents",
   "title_sidebar": "Contents",
   "toc_cell": false,
   "toc_position": {},
   "toc_section_display": true,
   "toc_window_display": false
  }
 },
 "nbformat": 4,
 "nbformat_minor": 5
}
