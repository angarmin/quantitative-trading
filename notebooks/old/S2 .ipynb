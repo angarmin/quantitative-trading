{
 "cells": [
  {
   "cell_type": "markdown",
   "id": "d02d99cc",
   "metadata": {},
   "source": [
    "<font size=\"6\"><center>**S2**</font>"
   ]
  },
  {
   "cell_type": "code",
   "execution_count": 191,
   "id": "08233b37",
   "metadata": {
    "scrolled": true
   },
   "outputs": [
    {
     "name": "stdout",
     "output_type": "stream",
     "text": [
      "The autoreload extension is already loaded. To reload it, use:\n",
      "  %reload_ext autoreload\n"
     ]
    }
   ],
   "source": [
    "%load_ext autoreload\n",
    "%autoreload 2\n",
    "#pip install -U python-dotenv\n"
   ]
  },
  {
   "cell_type": "code",
   "execution_count": 192,
   "id": "c9b10420",
   "metadata": {
    "scrolled": true
   },
   "outputs": [],
   "source": [
    "%run ../nb_config.py  # place a .py to set root_path in order to be able to import from src folder"
   ]
  },
  {
   "cell_type": "code",
   "execution_count": 193,
   "id": "c45278a2",
   "metadata": {
    "scrolled": true
   },
   "outputs": [],
   "source": [
    "path=os.environ.get('LOCAL_PATH')"
   ]
  },
  {
   "cell_type": "code",
   "execution_count": 194,
   "id": "6f8d82ce",
   "metadata": {
    "scrolled": true
   },
   "outputs": [],
   "source": [
    "from statsmodels.tsa.stattools import adfuller\n",
    "from statsmodels.graphics.tsaplots import plot_acf, plot_pacf \n",
    "from sklearn.metrics import mean_squared_error, accuracy_score\n",
    "\n",
    "from src.data_api import sources\n",
    "from src import utils\n",
    "\n",
    "from src import data_preparation as dataprep\n",
    "\n",
    "import pandas as pd\n",
    "import numpy as np"
   ]
  },
  {
   "cell_type": "code",
   "execution_count": 195,
   "id": "66b6f60b",
   "metadata": {
    "scrolled": true
   },
   "outputs": [],
   "source": [
    "conf = utils.get_conf()"
   ]
  },
  {
   "cell_type": "code",
   "execution_count": 196,
   "id": "1338b5ff",
   "metadata": {},
   "outputs": [],
   "source": [
    "\n",
    "start_dt= \"2014-01-01\"\n",
    "end_dt= \"2017-12-31\"\n",
    "adv_top= 5000000\n",
    "adv_window= 120\n",
    "tau= 5\n",
    "horizon= 1"
   ]
  },
  {
   "cell_type": "markdown",
   "id": "a009c8b2",
   "metadata": {},
   "source": [
    "# Load Data"
   ]
  },
  {
   "cell_type": "code",
   "execution_count": 198,
   "id": "bb719ec0",
   "metadata": {
    "scrolled": true
   },
   "outputs": [],
   "source": [
    "wiki_prices_o=pd.read_csv(path+\"data/raw/WIKI_PRICES.csv\")\n"
   ]
  },
  {
   "cell_type": "code",
   "execution_count": 199,
   "id": "ad70eacb",
   "metadata": {},
   "outputs": [],
   "source": [
    "wiki_prices=wiki_prices_o.copy()"
   ]
  },
  {
   "cell_type": "code",
   "execution_count": 200,
   "id": "5f377bc4",
   "metadata": {
    "scrolled": true
   },
   "outputs": [
    {
     "data": {
      "text/html": [
       "<div>\n",
       "<style scoped>\n",
       "    .dataframe tbody tr th:only-of-type {\n",
       "        vertical-align: middle;\n",
       "    }\n",
       "\n",
       "    .dataframe tbody tr th {\n",
       "        vertical-align: top;\n",
       "    }\n",
       "\n",
       "    .dataframe thead th {\n",
       "        text-align: right;\n",
       "    }\n",
       "</style>\n",
       "<table border=\"1\" class=\"dataframe\">\n",
       "  <thead>\n",
       "    <tr style=\"text-align: right;\">\n",
       "      <th></th>\n",
       "      <th>ticker</th>\n",
       "      <th>date</th>\n",
       "      <th>open</th>\n",
       "      <th>high</th>\n",
       "      <th>low</th>\n",
       "      <th>close</th>\n",
       "      <th>volume</th>\n",
       "      <th>ex-dividend</th>\n",
       "      <th>split_ratio</th>\n",
       "      <th>adj_open</th>\n",
       "      <th>adj_high</th>\n",
       "      <th>adj_low</th>\n",
       "      <th>adj_close</th>\n",
       "      <th>adj_volume</th>\n",
       "    </tr>\n",
       "  </thead>\n",
       "  <tbody>\n",
       "    <tr>\n",
       "      <th>0</th>\n",
       "      <td>A</td>\n",
       "      <td>1999-11-18</td>\n",
       "      <td>45.5000</td>\n",
       "      <td>50.0000</td>\n",
       "      <td>40.0000</td>\n",
       "      <td>44.0000</td>\n",
       "      <td>44,739,900.0000</td>\n",
       "      <td>0.0000</td>\n",
       "      <td>1.0000</td>\n",
       "      <td>31.0420</td>\n",
       "      <td>34.1120</td>\n",
       "      <td>27.2896</td>\n",
       "      <td>30.0186</td>\n",
       "      <td>44,739,900.0000</td>\n",
       "    </tr>\n",
       "    <tr>\n",
       "      <th>1</th>\n",
       "      <td>A</td>\n",
       "      <td>1999-11-19</td>\n",
       "      <td>42.9400</td>\n",
       "      <td>43.0000</td>\n",
       "      <td>39.8100</td>\n",
       "      <td>40.3800</td>\n",
       "      <td>10,897,100.0000</td>\n",
       "      <td>0.0000</td>\n",
       "      <td>1.0000</td>\n",
       "      <td>29.2954</td>\n",
       "      <td>29.3363</td>\n",
       "      <td>27.1600</td>\n",
       "      <td>27.5489</td>\n",
       "      <td>10,897,100.0000</td>\n",
       "    </tr>\n",
       "    <tr>\n",
       "      <th>2</th>\n",
       "      <td>A</td>\n",
       "      <td>1999-11-22</td>\n",
       "      <td>41.3100</td>\n",
       "      <td>44.0000</td>\n",
       "      <td>40.0600</td>\n",
       "      <td>44.0000</td>\n",
       "      <td>4,705,200.0000</td>\n",
       "      <td>0.0000</td>\n",
       "      <td>1.0000</td>\n",
       "      <td>28.1834</td>\n",
       "      <td>30.0186</td>\n",
       "      <td>27.3306</td>\n",
       "      <td>30.0186</td>\n",
       "      <td>4,705,200.0000</td>\n",
       "    </tr>\n",
       "    <tr>\n",
       "      <th>3</th>\n",
       "      <td>A</td>\n",
       "      <td>1999-11-23</td>\n",
       "      <td>42.5000</td>\n",
       "      <td>43.6300</td>\n",
       "      <td>40.2500</td>\n",
       "      <td>40.2500</td>\n",
       "      <td>4,274,400.0000</td>\n",
       "      <td>0.0000</td>\n",
       "      <td>1.0000</td>\n",
       "      <td>28.9952</td>\n",
       "      <td>29.7662</td>\n",
       "      <td>27.4602</td>\n",
       "      <td>27.4602</td>\n",
       "      <td>4,274,400.0000</td>\n",
       "    </tr>\n",
       "    <tr>\n",
       "      <th>4</th>\n",
       "      <td>A</td>\n",
       "      <td>1999-11-24</td>\n",
       "      <td>40.1300</td>\n",
       "      <td>41.9400</td>\n",
       "      <td>40.0000</td>\n",
       "      <td>41.0600</td>\n",
       "      <td>3,464,400.0000</td>\n",
       "      <td>0.0000</td>\n",
       "      <td>1.0000</td>\n",
       "      <td>27.3783</td>\n",
       "      <td>28.6132</td>\n",
       "      <td>27.2896</td>\n",
       "      <td>28.0128</td>\n",
       "      <td>3,464,400.0000</td>\n",
       "    </tr>\n",
       "  </tbody>\n",
       "</table>\n",
       "</div>"
      ],
      "text/plain": [
       "  ticker        date    open    high     low   close          volume  \\\n",
       "0      A  1999-11-18 45.5000 50.0000 40.0000 44.0000 44,739,900.0000   \n",
       "1      A  1999-11-19 42.9400 43.0000 39.8100 40.3800 10,897,100.0000   \n",
       "2      A  1999-11-22 41.3100 44.0000 40.0600 44.0000  4,705,200.0000   \n",
       "3      A  1999-11-23 42.5000 43.6300 40.2500 40.2500  4,274,400.0000   \n",
       "4      A  1999-11-24 40.1300 41.9400 40.0000 41.0600  3,464,400.0000   \n",
       "\n",
       "   ex-dividend  split_ratio  adj_open  adj_high  adj_low  adj_close  \\\n",
       "0       0.0000       1.0000   31.0420   34.1120  27.2896    30.0186   \n",
       "1       0.0000       1.0000   29.2954   29.3363  27.1600    27.5489   \n",
       "2       0.0000       1.0000   28.1834   30.0186  27.3306    30.0186   \n",
       "3       0.0000       1.0000   28.9952   29.7662  27.4602    27.4602   \n",
       "4       0.0000       1.0000   27.3783   28.6132  27.2896    28.0128   \n",
       "\n",
       "       adj_volume  \n",
       "0 44,739,900.0000  \n",
       "1 10,897,100.0000  \n",
       "2  4,705,200.0000  \n",
       "3  4,274,400.0000  \n",
       "4  3,464,400.0000  "
      ]
     },
     "execution_count": 200,
     "metadata": {},
     "output_type": "execute_result"
    }
   ],
   "source": [
    "wiki_prices.head()"
   ]
  },
  {
   "cell_type": "code",
   "execution_count": 201,
   "id": "8fae90ac",
   "metadata": {},
   "outputs": [
    {
     "data": {
      "text/plain": [
       "Index(['ticker', 'date', 'open', 'high', 'low', 'close', 'volume',\n",
       "       'ex-dividend', 'split_ratio', 'adj_open', 'adj_high', 'adj_low',\n",
       "       'adj_close', 'adj_volume'],\n",
       "      dtype='object')"
      ]
     },
     "execution_count": 201,
     "metadata": {},
     "output_type": "execute_result"
    }
   ],
   "source": [
    "wiki_prices.columns"
   ]
  },
  {
   "cell_type": "code",
   "execution_count": 202,
   "id": "007300e6",
   "metadata": {
    "scrolled": false
   },
   "outputs": [
    {
     "name": "stdout",
     "output_type": "stream",
     "text": [
      "<class 'pandas.core.frame.DataFrame'>\n",
      "RangeIndex: 15389314 entries, 0 to 15389313\n",
      "Columns: 14 entries, ticker to adj_volume\n",
      "dtypes: float64(12), object(2)\n",
      "memory usage: 1.6+ GB\n"
     ]
    }
   ],
   "source": [
    "wiki_prices.info()"
   ]
  },
  {
   "cell_type": "code",
   "execution_count": 203,
   "id": "dac16bdb",
   "metadata": {},
   "outputs": [],
   "source": [
    "metadata=pd.read_csv(path+\"data/raw/us_equities_meta_data.csv\")\n"
   ]
  },
  {
   "cell_type": "code",
   "execution_count": 204,
   "id": "ff0c421e",
   "metadata": {},
   "outputs": [],
   "source": [
    " \n",
    "wiki_prices = pd.merge(wiki_prices, metadata[[\"ticker\",\"sector\"]], on=\"ticker\")"
   ]
  },
  {
   "cell_type": "code",
   "execution_count": 205,
   "id": "a773da83",
   "metadata": {},
   "outputs": [
    {
     "data": {
      "text/plain": [
       "count   14,189.0000\n",
       "mean       865.0642\n",
       "std        849.7383\n",
       "min          1.0000\n",
       "25%         66.0000\n",
       "50%        472.0000\n",
       "75%      1,610.0000\n",
       "max      2,399.0000\n",
       "dtype: float64"
      ]
     },
     "execution_count": 205,
     "metadata": {},
     "output_type": "execute_result"
    }
   ],
   "source": [
    "n_tickers=wiki_prices.set_index(\"date\").groupby(\"date\").size()\n",
    "n_tickers.describe()"
   ]
  },
  {
   "cell_type": "markdown",
   "id": "43588a62",
   "metadata": {},
   "source": [
    "# Data Preparation"
   ]
  },
  {
   "cell_type": "code",
   "execution_count": 206,
   "id": "b5ac539c",
   "metadata": {
    "scrolled": true
   },
   "outputs": [],
   "source": [
    "#cojo solo las columnas que voy a usar\n",
    "wiki_prices=wiki_prices[[\"ticker\",\"date\",\"adj_close\",\"sector\", \"adj_volume\"]]"
   ]
  },
  {
   "cell_type": "code",
   "execution_count": 207,
   "id": "4003ce6f",
   "metadata": {},
   "outputs": [
    {
     "data": {
      "image/png": "[encoded data removed]",
      "text/plain": [
       "<Figure size 864x432 with 1 Axes>"
      ]
     },
     "metadata": {
      "needs_background": "light"
     },
     "output_type": "display_data"
    }
   ],
   "source": [
    "wiki_prices[\"sector\"].value_counts(normalize=True).plot.bar()\n",
    "plt.show()"
   ]
  },
  {
   "cell_type": "code",
   "execution_count": 208,
   "id": "6f72c86e",
   "metadata": {
    "scrolled": true
   },
   "outputs": [
    {
     "data": {
      "text/plain": [
       "2412"
      ]
     },
     "execution_count": 208,
     "metadata": {},
     "output_type": "execute_result"
    }
   ],
   "source": [
    "len(pd.unique(wiki_prices.ticker))"
   ]
  },
  {
   "cell_type": "code",
   "execution_count": 209,
   "id": "5b928d0e",
   "metadata": {},
   "outputs": [],
   "source": [
    " #######filtro volumen\n",
    "\n",
    "adj_volume_roll= wiki_prices.groupby( \"ticker\")[\"adj_volume\"].rolling(adv_window).mean()"
   ]
  },
  {
   "cell_type": "code",
   "execution_count": 210,
   "id": "0f6d0876",
   "metadata": {},
   "outputs": [
    {
     "data": {
      "text/plain": [
       "count    11,987,786.0000\n",
       "mean      1,544,259.6209\n",
       "std       6,021,308.6437\n",
       "min               0.0000\n",
       "25%          70,810.8333\n",
       "50%         301,403.3333\n",
       "75%       1,083,522.5000\n",
       "max     456,477,794.1667\n",
       "Name: adj_volume, dtype: float64"
      ]
     },
     "execution_count": 210,
     "metadata": {},
     "output_type": "execute_result"
    }
   ],
   "source": [
    "adj_volume_roll.describe()"
   ]
  },
  {
   "cell_type": "code",
   "execution_count": 211,
   "id": "dd207686",
   "metadata": {},
   "outputs": [
    {
     "data": {
      "text/plain": [
       "<AxesSubplot:>"
      ]
     },
     "execution_count": 211,
     "metadata": {},
     "output_type": "execute_result"
    },
    {
     "data": {
      "image/png": "[encoded data removed]",
      "text/plain": [
       "<Figure size 864x432 with 1 Axes>"
      ]
     },
     "metadata": {
      "needs_background": "light"
     },
     "output_type": "display_data"
    }
   ],
   "source": [
    "adj_volume_roll[adj_volume_roll<adv_top].hist()"
   ]
  },
  {
   "cell_type": "code",
   "execution_count": 212,
   "id": "7022d7d9",
   "metadata": {},
   "outputs": [],
   "source": [
    "#filtering the ones below 50000\n",
    "tickers=pd.unique(adj_volume_roll[adj_volume_roll>adv_top].reset_index().ticker)"
   ]
  },
  {
   "cell_type": "code",
   "execution_count": 213,
   "id": "37db4eb1",
   "metadata": {},
   "outputs": [],
   "source": [
    "wiki_prices=wiki_prices[wiki_prices[\"ticker\"].isin(tickers)]"
   ]
  },
  {
   "cell_type": "code",
   "execution_count": 214,
   "id": "80d66842",
   "metadata": {
    "scrolled": true
   },
   "outputs": [],
   "source": [
    "\n",
    "\n",
    "#tau_fwd=365\n",
    "#wiki_prices=(wiki_prices.pipe(dataprep.pl_targets, tau_fwd=tau_fwd, column=\"adj_close\")\n",
    "#        .pipe(dataprep.pl_features,  target=\"adj_close\",target_lag=\"adj_close_\"+str(tau_fwd)+\"lag\",tau_fwd=tau_fwd))\n",
    "#wiki_prices[\"target\"]= wiki_prices.groupby(\"ticker\")[\"returns_365d\"].shift(-tau_fwd )\n",
    "wiki_prices[\"lag_adj_close\"]=wiki_prices.groupby(\"ticker\")[\"adj_close\"].shift(tau)\n",
    "wiki_prices[\"x_returns5d\"]=np.log(wiki_prices[\"adj_close\"]) - np.log(wiki_prices[\"lag_adj_close\"])\n",
    "wiki_prices[\"target\"]=wiki_prices.groupby(\"ticker\")[\"x_returns5d\"].shift(-tau)\n",
    "\n",
    "wiki_prices[\"lag_adj_close\"]=wiki_prices.groupby(\"ticker\")[\"adj_close\"].shift(365)\n",
    "wiki_prices[\"x_returns1y\"]=np.log(wiki_prices[\"adj_close\"]) - np.log(wiki_prices[\"lag_adj_close\"])"
   ]
  },
  {
   "cell_type": "code",
   "execution_count": 215,
   "id": "0055170e",
   "metadata": {},
   "outputs": [],
   "source": [
    "wiki_prices=wiki_prices.set_index([\"ticker\", \"date\"])"
   ]
  },
  {
   "cell_type": "code",
   "execution_count": 216,
   "id": "3d0109b5",
   "metadata": {},
   "outputs": [],
   "source": [
    "# 0.0035: x+1 es un 0.35 veces más pequeño que x \n",
    "# + -> decrece, x > x+1\n",
    "#-> crece x < x+1"
   ]
  },
  {
   "cell_type": "code",
   "execution_count": 217,
   "id": "dd1bc52e",
   "metadata": {},
   "outputs": [],
   "source": [
    "wiki_prices[\"mom_1d\"]= wiki_prices.groupby(level=\"ticker\")[\"adj_close\"].apply(lambda x: (x-x.shift(-1))/x.shift(-1)) "
   ]
  },
  {
   "cell_type": "code",
   "execution_count": 218,
   "id": "e6d15a3c",
   "metadata": {},
   "outputs": [],
   "source": [
    "wiki_prices[\"target_1d\"]= wiki_prices.groupby(level=\"ticker\")[\"mom_1d\"].shift(1)\n",
    "#\"quiero predecir que mi actual X crece o decrede respectoa x-1\" ????????"
   ]
  },
  {
   "cell_type": "code",
   "execution_count": 219,
   "id": "38e201e1",
   "metadata": {},
   "outputs": [],
   "source": [
    "\n",
    "##filtro fechas \n",
    "wiki_prices=wiki_prices.reset_index([\"ticker\", \"date\"])\n",
    "wiki_prices=wiki_prices.pipe(dataprep.pl_filter, column=\"date\", start_dt=start_dt, end_dt=end_dt)\n",
    "wiki_prices=wiki_prices.fillna(0)\n",
    "wiki_prices=wiki_prices.set_index([\"ticker\", \"date\"])"
   ]
  },
  {
   "cell_type": "code",
   "execution_count": 220,
   "id": "f53bd8f6",
   "metadata": {},
   "outputs": [],
   "source": [
    "n_tickets=wiki_prices.groupby(\"date\").size()"
   ]
  },
  {
   "cell_type": "code",
   "execution_count": 221,
   "id": "bd5e53b1",
   "metadata": {},
   "outputs": [
    {
     "data": {
      "text/plain": [
       "count   1,008.0000\n",
       "mean      407.9603\n",
       "std        19.2181\n",
       "min         1.0000\n",
       "25%       409.0000\n",
       "50%       412.0000\n",
       "75%       412.0000\n",
       "max       413.0000\n",
       "dtype: float64"
      ]
     },
     "execution_count": 221,
     "metadata": {},
     "output_type": "execute_result"
    }
   ],
   "source": [
    "n_tickets.describe()"
   ]
  },
  {
   "cell_type": "code",
   "execution_count": 222,
   "id": "fd88ee66",
   "metadata": {},
   "outputs": [
    {
     "data": {
      "text/html": [
       "<div>\n",
       "<style scoped>\n",
       "    .dataframe tbody tr th:only-of-type {\n",
       "        vertical-align: middle;\n",
       "    }\n",
       "\n",
       "    .dataframe tbody tr th {\n",
       "        vertical-align: top;\n",
       "    }\n",
       "\n",
       "    .dataframe thead th {\n",
       "        text-align: right;\n",
       "    }\n",
       "</style>\n",
       "<table border=\"1\" class=\"dataframe\">\n",
       "  <thead>\n",
       "    <tr style=\"text-align: right;\">\n",
       "      <th></th>\n",
       "      <th>target</th>\n",
       "      <th>x_returns1y</th>\n",
       "    </tr>\n",
       "  </thead>\n",
       "  <tbody>\n",
       "    <tr>\n",
       "      <th>target</th>\n",
       "      <td>1.0000</td>\n",
       "      <td>0.0043</td>\n",
       "    </tr>\n",
       "    <tr>\n",
       "      <th>x_returns1y</th>\n",
       "      <td>0.0043</td>\n",
       "      <td>1.0000</td>\n",
       "    </tr>\n",
       "  </tbody>\n",
       "</table>\n",
       "</div>"
      ],
      "text/plain": [
       "             target  x_returns1y\n",
       "target       1.0000       0.0043\n",
       "x_returns1y  0.0043       1.0000"
      ]
     },
     "execution_count": 222,
     "metadata": {},
     "output_type": "execute_result"
    }
   ],
   "source": [
    "wiki_prices[[\"target\",\"x_returns1y\"]].corr(method=\"spearman\")"
   ]
  },
  {
   "cell_type": "markdown",
   "id": "175c03e2",
   "metadata": {},
   "source": [
    "## Sector demean"
   ]
  },
  {
   "cell_type": "code",
   "execution_count": 223,
   "id": "c2f3148c",
   "metadata": {},
   "outputs": [],
   "source": [
    "wiki_prices[\"x_returns_1y_sdmean\"]= wiki_prices.groupby( [\"sector\"])[\"x_returns1y\"].apply(lambda x: (x-x.mean())) "
   ]
  },
  {
   "cell_type": "markdown",
   "id": "6b00548c",
   "metadata": {},
   "source": [
    " ## Daily rank"
   ]
  },
  {
   "cell_type": "code",
   "execution_count": 224,
   "id": "e3dc442e",
   "metadata": {},
   "outputs": [],
   "source": [
    "wiki_prices[\"x_returns_1y_rnk\"]= wiki_prices.groupby(level=\"date\")[\"x_returns1y\"].rank().astype(int)"
   ]
  },
  {
   "cell_type": "markdown",
   "id": "f951fe3b",
   "metadata": {},
   "source": [
    " ## Daily z-score"
   ]
  },
  {
   "cell_type": "code",
   "execution_count": 225,
   "id": "4afe54ab",
   "metadata": {},
   "outputs": [],
   "source": [
    "#wiki_prices[\"x_returns_1y_zscr\"]= (wiki_prices.groupby(level=\"date\")[\"target_1d\"]\n",
    "#                                  .apply(lambda x: ( (x-x.mean())/ x.std()) if x.std()>0 else None))\n",
    "#????????????????????????"
   ]
  },
  {
   "cell_type": "code",
   "execution_count": 226,
   "id": "7d1e905f",
   "metadata": {},
   "outputs": [],
   "source": [
    "wiki_prices[\"x_returns_1y_zscr\"]= ((wiki_prices[\"x_returns1y\"] - wiki_prices.groupby(level=\"date\")[\"x_returns1y\"].mean())\n",
    " /wiki_prices.groupby(level=\"date\")[\"x_returns1y\"].std())"
   ]
  },
  {
   "cell_type": "markdown",
   "id": "e6bec268",
   "metadata": {},
   "source": [
    " ## Time smooth"
   ]
  },
  {
   "cell_type": "code",
   "execution_count": 227,
   "id": "48fc21b7",
   "metadata": {},
   "outputs": [],
   "source": [
    "def smooth(data, window:int):\n",
    "    return data.rolling(window).mean()"
   ]
  },
  {
   "cell_type": "code",
   "execution_count": 228,
   "id": "2e8f705b",
   "metadata": {},
   "outputs": [],
   "source": [
    "wiki_prices[\"x_returns_1y_tsmooth\"]= wiki_prices.groupby(level=\"ticker\")[\"x_returns1y\"].apply(lambda x:  smooth(x, window=2)) "
   ]
  },
  {
   "cell_type": "code",
   "execution_count": 229,
   "id": "50a9f3e6",
   "metadata": {},
   "outputs": [
    {
     "data": {
      "text/html": [
       "<div>\n",
       "<style scoped>\n",
       "    .dataframe tbody tr th:only-of-type {\n",
       "        vertical-align: middle;\n",
       "    }\n",
       "\n",
       "    .dataframe tbody tr th {\n",
       "        vertical-align: top;\n",
       "    }\n",
       "\n",
       "    .dataframe thead th {\n",
       "        text-align: right;\n",
       "    }\n",
       "</style>\n",
       "<table border=\"1\" class=\"dataframe\">\n",
       "  <thead>\n",
       "    <tr style=\"text-align: right;\">\n",
       "      <th></th>\n",
       "      <th></th>\n",
       "      <th>index</th>\n",
       "      <th>adj_close</th>\n",
       "      <th>sector</th>\n",
       "      <th>adj_volume</th>\n",
       "      <th>lag_adj_close</th>\n",
       "      <th>x_returns5d</th>\n",
       "      <th>target</th>\n",
       "      <th>x_returns1y</th>\n",
       "      <th>mom_1d</th>\n",
       "      <th>target_1d</th>\n",
       "      <th>x_returns_1y_sdmean</th>\n",
       "      <th>x_returns_1y_rnk</th>\n",
       "      <th>x_returns_1y_zscr</th>\n",
       "      <th>x_returns_1y_tsmooth</th>\n",
       "    </tr>\n",
       "    <tr>\n",
       "      <th>ticker</th>\n",
       "      <th>date</th>\n",
       "      <th></th>\n",
       "      <th></th>\n",
       "      <th></th>\n",
       "      <th></th>\n",
       "      <th></th>\n",
       "      <th></th>\n",
       "      <th></th>\n",
       "      <th></th>\n",
       "      <th></th>\n",
       "      <th></th>\n",
       "      <th></th>\n",
       "      <th></th>\n",
       "      <th></th>\n",
       "      <th></th>\n",
       "    </tr>\n",
       "  </thead>\n",
       "  <tbody>\n",
       "    <tr>\n",
       "      <th rowspan=\"5\" valign=\"top\">A</th>\n",
       "      <th>2014-01-02</th>\n",
       "      <td>3551</td>\n",
       "      <td>39.1285</td>\n",
       "      <td>Capital Goods</td>\n",
       "      <td>1,916,200.0000</td>\n",
       "      <td>26.3649</td>\n",
       "      <td>-0.0157</td>\n",
       "      <td>0.0384</td>\n",
       "      <td>0.3948</td>\n",
       "      <td>-0.0125</td>\n",
       "      <td>0.0174</td>\n",
       "      <td>0.2542</td>\n",
       "      <td>212</td>\n",
       "      <td>0.0346</td>\n",
       "      <td>NaN</td>\n",
       "    </tr>\n",
       "    <tr>\n",
       "      <th>2014-01-03</th>\n",
       "      <td>3552</td>\n",
       "      <td>39.6228</td>\n",
       "      <td>Capital Goods</td>\n",
       "      <td>1,866,700.0000</td>\n",
       "      <td>25.7480</td>\n",
       "      <td>-0.0071</td>\n",
       "      <td>0.0347</td>\n",
       "      <td>0.4310</td>\n",
       "      <td>0.0049</td>\n",
       "      <td>-0.0125</td>\n",
       "      <td>0.2904</td>\n",
       "      <td>219</td>\n",
       "      <td>0.0899</td>\n",
       "      <td>0.4129</td>\n",
       "    </tr>\n",
       "    <tr>\n",
       "      <th>2014-01-06</th>\n",
       "      <td>3553</td>\n",
       "      <td>39.4278</td>\n",
       "      <td>Capital Goods</td>\n",
       "      <td>1,777,300.0000</td>\n",
       "      <td>25.1516</td>\n",
       "      <td>-0.0093</td>\n",
       "      <td>0.0396</td>\n",
       "      <td>0.4496</td>\n",
       "      <td>-0.0141</td>\n",
       "      <td>0.0049</td>\n",
       "      <td>0.3089</td>\n",
       "      <td>229</td>\n",
       "      <td>0.1145</td>\n",
       "      <td>0.4403</td>\n",
       "    </tr>\n",
       "    <tr>\n",
       "      <th>2014-01-07</th>\n",
       "      <td>3554</td>\n",
       "      <td>39.9917</td>\n",
       "      <td>Capital Goods</td>\n",
       "      <td>1,463,200.0000</td>\n",
       "      <td>24.4112</td>\n",
       "      <td>0.0023</td>\n",
       "      <td>0.0414</td>\n",
       "      <td>0.4936</td>\n",
       "      <td>-0.0161</td>\n",
       "      <td>-0.0141</td>\n",
       "      <td>0.3530</td>\n",
       "      <td>249</td>\n",
       "      <td>0.1845</td>\n",
       "      <td>0.4716</td>\n",
       "    </tr>\n",
       "    <tr>\n",
       "      <th>2014-01-08</th>\n",
       "      <td>3555</td>\n",
       "      <td>40.6460</td>\n",
       "      <td>Capital Goods</td>\n",
       "      <td>2,659,500.0000</td>\n",
       "      <td>24.7745</td>\n",
       "      <td>0.0208</td>\n",
       "      <td>0.0329</td>\n",
       "      <td>0.4951</td>\n",
       "      <td>-0.0003</td>\n",
       "      <td>-0.0161</td>\n",
       "      <td>0.3544</td>\n",
       "      <td>248</td>\n",
       "      <td>0.1745</td>\n",
       "      <td>0.4944</td>\n",
       "    </tr>\n",
       "    <tr>\n",
       "      <th>...</th>\n",
       "      <th>...</th>\n",
       "      <td>...</td>\n",
       "      <td>...</td>\n",
       "      <td>...</td>\n",
       "      <td>...</td>\n",
       "      <td>...</td>\n",
       "      <td>...</td>\n",
       "      <td>...</td>\n",
       "      <td>...</td>\n",
       "      <td>...</td>\n",
       "      <td>...</td>\n",
       "      <td>...</td>\n",
       "      <td>...</td>\n",
       "      <td>...</td>\n",
       "      <td>...</td>\n",
       "    </tr>\n",
       "    <tr>\n",
       "      <th rowspan=\"5\" valign=\"top\">ZTS</th>\n",
       "      <th>2017-12-22</th>\n",
       "      <td>2746470</td>\n",
       "      <td>71.9900</td>\n",
       "      <td>Health Care</td>\n",
       "      <td>1,343,760.0000</td>\n",
       "      <td>48.8145</td>\n",
       "      <td>0.0004</td>\n",
       "      <td>-0.0031</td>\n",
       "      <td>0.3885</td>\n",
       "      <td>-0.0048</td>\n",
       "      <td>0.0040</td>\n",
       "      <td>0.3161</td>\n",
       "      <td>284</td>\n",
       "      <td>0.4576</td>\n",
       "      <td>0.3938</td>\n",
       "    </tr>\n",
       "    <tr>\n",
       "      <th>2017-12-26</th>\n",
       "      <td>2746471</td>\n",
       "      <td>72.3400</td>\n",
       "      <td>Health Care</td>\n",
       "      <td>791,944.0000</td>\n",
       "      <td>49.5985</td>\n",
       "      <td>-0.0040</td>\n",
       "      <td>-0.0033</td>\n",
       "      <td>0.3774</td>\n",
       "      <td>-0.0015</td>\n",
       "      <td>-0.0048</td>\n",
       "      <td>0.3050</td>\n",
       "      <td>282</td>\n",
       "      <td>0.4452</td>\n",
       "      <td>0.3830</td>\n",
       "    </tr>\n",
       "    <tr>\n",
       "      <th>2017-12-27</th>\n",
       "      <td>2746472</td>\n",
       "      <td>72.4500</td>\n",
       "      <td>Health Care</td>\n",
       "      <td>1,145,321.0000</td>\n",
       "      <td>49.3008</td>\n",
       "      <td>-0.0048</td>\n",
       "      <td>0.0011</td>\n",
       "      <td>0.3850</td>\n",
       "      <td>0.0008</td>\n",
       "      <td>-0.0015</td>\n",
       "      <td>0.3126</td>\n",
       "      <td>285</td>\n",
       "      <td>0.4647</td>\n",
       "      <td>0.3812</td>\n",
       "    </tr>\n",
       "    <tr>\n",
       "      <th>2017-12-28</th>\n",
       "      <td>2746473</td>\n",
       "      <td>72.3900</td>\n",
       "      <td>Health Care</td>\n",
       "      <td>705,277.0000</td>\n",
       "      <td>49.3405</td>\n",
       "      <td>-0.0044</td>\n",
       "      <td>0.0133</td>\n",
       "      <td>0.3833</td>\n",
       "      <td>0.0049</td>\n",
       "      <td>0.0008</td>\n",
       "      <td>0.3109</td>\n",
       "      <td>285</td>\n",
       "      <td>0.4643</td>\n",
       "      <td>0.3841</td>\n",
       "    </tr>\n",
       "    <tr>\n",
       "      <th>2017-12-29</th>\n",
       "      <td>2746474</td>\n",
       "      <td>72.0400</td>\n",
       "      <td>Health Care</td>\n",
       "      <td>1,687,995.0000</td>\n",
       "      <td>48.9932</td>\n",
       "      <td>-0.0033</td>\n",
       "      <td>0.0301</td>\n",
       "      <td>0.3855</td>\n",
       "      <td>0.0038</td>\n",
       "      <td>0.0049</td>\n",
       "      <td>0.3131</td>\n",
       "      <td>289</td>\n",
       "      <td>0.4731</td>\n",
       "      <td>0.3844</td>\n",
       "    </tr>\n",
       "  </tbody>\n",
       "</table>\n",
       "<p>411224 rows × 14 columns</p>\n",
       "</div>"
      ],
      "text/plain": [
       "                     index  adj_close         sector     adj_volume  \\\n",
       "ticker date                                                           \n",
       "A      2014-01-02     3551    39.1285  Capital Goods 1,916,200.0000   \n",
       "       2014-01-03     3552    39.6228  Capital Goods 1,866,700.0000   \n",
       "       2014-01-06     3553    39.4278  Capital Goods 1,777,300.0000   \n",
       "       2014-01-07     3554    39.9917  Capital Goods 1,463,200.0000   \n",
       "       2014-01-08     3555    40.6460  Capital Goods 2,659,500.0000   \n",
       "...                    ...        ...            ...            ...   \n",
       "ZTS    2017-12-22  2746470    71.9900    Health Care 1,343,760.0000   \n",
       "       2017-12-26  2746471    72.3400    Health Care   791,944.0000   \n",
       "       2017-12-27  2746472    72.4500    Health Care 1,145,321.0000   \n",
       "       2017-12-28  2746473    72.3900    Health Care   705,277.0000   \n",
       "       2017-12-29  2746474    72.0400    Health Care 1,687,995.0000   \n",
       "\n",
       "                   lag_adj_close  x_returns5d  target  x_returns1y  mom_1d  \\\n",
       "ticker date                                                                  \n",
       "A      2014-01-02        26.3649      -0.0157  0.0384       0.3948 -0.0125   \n",
       "       2014-01-03        25.7480      -0.0071  0.0347       0.4310  0.0049   \n",
       "       2014-01-06        25.1516      -0.0093  0.0396       0.4496 -0.0141   \n",
       "       2014-01-07        24.4112       0.0023  0.0414       0.4936 -0.0161   \n",
       "       2014-01-08        24.7745       0.0208  0.0329       0.4951 -0.0003   \n",
       "...                          ...          ...     ...          ...     ...   \n",
       "ZTS    2017-12-22        48.8145       0.0004 -0.0031       0.3885 -0.0048   \n",
       "       2017-12-26        49.5985      -0.0040 -0.0033       0.3774 -0.0015   \n",
       "       2017-12-27        49.3008      -0.0048  0.0011       0.3850  0.0008   \n",
       "       2017-12-28        49.3405      -0.0044  0.0133       0.3833  0.0049   \n",
       "       2017-12-29        48.9932      -0.0033  0.0301       0.3855  0.0038   \n",
       "\n",
       "                   target_1d  x_returns_1y_sdmean  x_returns_1y_rnk  \\\n",
       "ticker date                                                           \n",
       "A      2014-01-02     0.0174               0.2542               212   \n",
       "       2014-01-03    -0.0125               0.2904               219   \n",
       "       2014-01-06     0.0049               0.3089               229   \n",
       "       2014-01-07    -0.0141               0.3530               249   \n",
       "       2014-01-08    -0.0161               0.3544               248   \n",
       "...                      ...                  ...               ...   \n",
       "ZTS    2017-12-22     0.0040               0.3161               284   \n",
       "       2017-12-26    -0.0048               0.3050               282   \n",
       "       2017-12-27    -0.0015               0.3126               285   \n",
       "       2017-12-28     0.0008               0.3109               285   \n",
       "       2017-12-29     0.0049               0.3131               289   \n",
       "\n",
       "                   x_returns_1y_zscr  x_returns_1y_tsmooth  \n",
       "ticker date                                                 \n",
       "A      2014-01-02             0.0346                   NaN  \n",
       "       2014-01-03             0.0899                0.4129  \n",
       "       2014-01-06             0.1145                0.4403  \n",
       "       2014-01-07             0.1845                0.4716  \n",
       "       2014-01-08             0.1745                0.4944  \n",
       "...                              ...                   ...  \n",
       "ZTS    2017-12-22             0.4576                0.3938  \n",
       "       2017-12-26             0.4452                0.3830  \n",
       "       2017-12-27             0.4647                0.3812  \n",
       "       2017-12-28             0.4643                0.3841  \n",
       "       2017-12-29             0.4731                0.3844  \n",
       "\n",
       "[411224 rows x 14 columns]"
      ]
     },
     "execution_count": 229,
     "metadata": {},
     "output_type": "execute_result"
    }
   ],
   "source": [
    "wiki_prices"
   ]
  },
  {
   "cell_type": "markdown",
   "id": "e113660f",
   "metadata": {},
   "source": [
    "# Data Visualization"
   ]
  },
  {
   "cell_type": "code",
   "execution_count": 230,
   "id": "08f8641e",
   "metadata": {},
   "outputs": [],
   "source": [
    "SMPL_DATE=\"2015-01-02\"\n",
    "wiki_prices=wiki_prices.reset_index([ \"date\"])\n",
    "\n",
    "select_cols= [\"adj_close\",\"target\", \"x_returns1y\",\"x_returns_1y_rnk\",\"x_returns_1y_sdmean\",\"x_returns_1y_zscr\",\"x_returns_1y_tsmooth\"]\n",
    "smpl_day_1y_rets=wiki_prices[wiki_prices[\"date\"]==SMPL_DATE][select_cols]\n"
   ]
  },
  {
   "cell_type": "code",
   "execution_count": 231,
   "id": "2f5de3d1",
   "metadata": {},
   "outputs": [],
   "source": [
    "#smlp_day_1y_rets=wiki_prices.xs(level=\"date\", key=SMPL_DATE)[select_cols]\n",
    "\n",
    "smpl_day_1y_rets=smpl_day_1y_rets.reset_index()"
   ]
  },
  {
   "cell_type": "code",
   "execution_count": 232,
   "id": "abb4733a",
   "metadata": {},
   "outputs": [
    {
     "data": {
      "text/plain": [
       "<AxesSubplot:>"
      ]
     },
     "execution_count": 232,
     "metadata": {},
     "output_type": "execute_result"
    },
    {
     "data": {
      "image/png": "[encoded data removed]",
      "text/plain": [
       "<Figure size 864x432 with 1 Axes>"
      ]
     },
     "metadata": {
      "needs_background": "light"
     },
     "output_type": "display_data"
    }
   ],
   "source": [
    "smpl_day_1y_rets[\"x_returns1y\"].hist()"
   ]
  },
  {
   "cell_type": "code",
   "execution_count": 233,
   "id": "6aaa6de6",
   "metadata": {},
   "outputs": [
    {
     "data": {
      "text/html": [
       "<div>\n",
       "<style scoped>\n",
       "    .dataframe tbody tr th:only-of-type {\n",
       "        vertical-align: middle;\n",
       "    }\n",
       "\n",
       "    .dataframe tbody tr th {\n",
       "        vertical-align: top;\n",
       "    }\n",
       "\n",
       "    .dataframe thead th {\n",
       "        text-align: right;\n",
       "    }\n",
       "</style>\n",
       "<table border=\"1\" class=\"dataframe\">\n",
       "  <thead>\n",
       "    <tr style=\"text-align: right;\">\n",
       "      <th></th>\n",
       "      <th>ticker</th>\n",
       "      <th>adj_close</th>\n",
       "      <th>target</th>\n",
       "      <th>x_returns1y</th>\n",
       "      <th>x_returns_1y_rnk</th>\n",
       "      <th>x_returns_1y_sdmean</th>\n",
       "      <th>x_returns_1y_zscr</th>\n",
       "      <th>x_returns_1y_tsmooth</th>\n",
       "    </tr>\n",
       "  </thead>\n",
       "  <tbody>\n",
       "    <tr>\n",
       "      <th>0</th>\n",
       "      <td>A</td>\n",
       "      <td>39.4360</td>\n",
       "      <td>0.0007</td>\n",
       "      <td>0.2027</td>\n",
       "      <td>220</td>\n",
       "      <td>0.0621</td>\n",
       "      <td>0.1277</td>\n",
       "      <td>0.2026</td>\n",
       "    </tr>\n",
       "    <tr>\n",
       "      <th>1</th>\n",
       "      <td>AAL</td>\n",
       "      <td>52.5131</td>\n",
       "      <td>-0.0357</td>\n",
       "      <td>0.1130</td>\n",
       "      <td>156</td>\n",
       "      <td>-0.1648</td>\n",
       "      <td>-0.1102</td>\n",
       "      <td>0.1077</td>\n",
       "    </tr>\n",
       "    <tr>\n",
       "      <th>2</th>\n",
       "      <td>AAPL</td>\n",
       "      <td>103.8640</td>\n",
       "      <td>0.0242</td>\n",
       "      <td>0.6357</td>\n",
       "      <td>386</td>\n",
       "      <td>0.4324</td>\n",
       "      <td>1.2754</td>\n",
       "      <td>0.6318</td>\n",
       "    </tr>\n",
       "    <tr>\n",
       "      <th>3</th>\n",
       "      <td>ABBV</td>\n",
       "      <td>59.1668</td>\n",
       "      <td>-0.0017</td>\n",
       "      <td>0.4377</td>\n",
       "      <td>359</td>\n",
       "      <td>0.3653</td>\n",
       "      <td>0.7506</td>\n",
       "      <td>0.4269</td>\n",
       "    </tr>\n",
       "    <tr>\n",
       "      <th>4</th>\n",
       "      <td>ABC</td>\n",
       "      <td>86.3839</td>\n",
       "      <td>0.0277</td>\n",
       "      <td>0.4748</td>\n",
       "      <td>368</td>\n",
       "      <td>0.4024</td>\n",
       "      <td>0.8491</td>\n",
       "      <td>0.4615</td>\n",
       "    </tr>\n",
       "    <tr>\n",
       "      <th>407</th>\n",
       "      <td>YELP</td>\n",
       "      <td>55.1500</td>\n",
       "      <td>0.0165</td>\n",
       "      <td>0.3227</td>\n",
       "      <td>303</td>\n",
       "      <td>0.2251</td>\n",
       "      <td>0.4456</td>\n",
       "      <td>0.3059</td>\n",
       "    </tr>\n",
       "    <tr>\n",
       "      <th>408</th>\n",
       "      <td>YUM</td>\n",
       "      <td>48.7408</td>\n",
       "      <td>0.0152</td>\n",
       "      <td>0.0528</td>\n",
       "      <td>123</td>\n",
       "      <td>-0.0447</td>\n",
       "      <td>-0.2699</td>\n",
       "      <td>0.0489</td>\n",
       "    </tr>\n",
       "    <tr>\n",
       "      <th>409</th>\n",
       "      <td>ZION</td>\n",
       "      <td>27.6237</td>\n",
       "      <td>-0.0821</td>\n",
       "      <td>-0.0471</td>\n",
       "      <td>77</td>\n",
       "      <td>-0.2099</td>\n",
       "      <td>-0.5347</td>\n",
       "      <td>-0.0587</td>\n",
       "    </tr>\n",
       "    <tr>\n",
       "      <th>410</th>\n",
       "      <td>ZNGA</td>\n",
       "      <td>2.7300</td>\n",
       "      <td>-0.0335</td>\n",
       "      <td>-0.1805</td>\n",
       "      <td>53</td>\n",
       "      <td>-0.3838</td>\n",
       "      <td>-0.8884</td>\n",
       "      <td>-0.1980</td>\n",
       "    </tr>\n",
       "    <tr>\n",
       "      <th>411</th>\n",
       "      <td>ZTS</td>\n",
       "      <td>42.4030</td>\n",
       "      <td>0.0215</td>\n",
       "      <td>0.3781</td>\n",
       "      <td>333</td>\n",
       "      <td>0.3057</td>\n",
       "      <td>0.5926</td>\n",
       "      <td>0.3714</td>\n",
       "    </tr>\n",
       "  </tbody>\n",
       "</table>\n",
       "</div>"
      ],
      "text/plain": [
       "    ticker  adj_close  target  x_returns1y  x_returns_1y_rnk  \\\n",
       "0        A    39.4360  0.0007       0.2027               220   \n",
       "1      AAL    52.5131 -0.0357       0.1130               156   \n",
       "2     AAPL   103.8640  0.0242       0.6357               386   \n",
       "3     ABBV    59.1668 -0.0017       0.4377               359   \n",
       "4      ABC    86.3839  0.0277       0.4748               368   \n",
       "407   YELP    55.1500  0.0165       0.3227               303   \n",
       "408    YUM    48.7408  0.0152       0.0528               123   \n",
       "409   ZION    27.6237 -0.0821      -0.0471                77   \n",
       "410   ZNGA     2.7300 -0.0335      -0.1805                53   \n",
       "411    ZTS    42.4030  0.0215       0.3781               333   \n",
       "\n",
       "     x_returns_1y_sdmean  x_returns_1y_zscr  x_returns_1y_tsmooth  \n",
       "0                 0.0621             0.1277                0.2026  \n",
       "1                -0.1648            -0.1102                0.1077  \n",
       "2                 0.4324             1.2754                0.6318  \n",
       "3                 0.3653             0.7506                0.4269  \n",
       "4                 0.4024             0.8491                0.4615  \n",
       "407               0.2251             0.4456                0.3059  \n",
       "408              -0.0447            -0.2699                0.0489  \n",
       "409              -0.2099            -0.5347               -0.0587  \n",
       "410              -0.3838            -0.8884               -0.1980  \n",
       "411               0.3057             0.5926                0.3714  "
      ]
     },
     "execution_count": 233,
     "metadata": {},
     "output_type": "execute_result"
    }
   ],
   "source": [
    "pd.concat([smpl_day_1y_rets.head(),smpl_day_1y_rets.tail()])"
   ]
  },
  {
   "cell_type": "code",
   "execution_count": 234,
   "id": "8ecbbdf8",
   "metadata": {},
   "outputs": [
    {
     "data": {
      "text/html": [
       "<div>\n",
       "<style scoped>\n",
       "    .dataframe tbody tr th:only-of-type {\n",
       "        vertical-align: middle;\n",
       "    }\n",
       "\n",
       "    .dataframe tbody tr th {\n",
       "        vertical-align: top;\n",
       "    }\n",
       "\n",
       "    .dataframe thead th {\n",
       "        text-align: right;\n",
       "    }\n",
       "</style>\n",
       "<table border=\"1\" class=\"dataframe\">\n",
       "  <thead>\n",
       "    <tr style=\"text-align: right;\">\n",
       "      <th></th>\n",
       "      <th>ticker</th>\n",
       "      <th>adj_close</th>\n",
       "      <th>target</th>\n",
       "      <th>x_returns1y</th>\n",
       "      <th>x_returns_1y_rnk</th>\n",
       "      <th>x_returns_1y_sdmean</th>\n",
       "      <th>x_returns_1y_zscr</th>\n",
       "      <th>x_returns_1y_tsmooth</th>\n",
       "    </tr>\n",
       "  </thead>\n",
       "  <tbody>\n",
       "    <tr>\n",
       "      <th>78</th>\n",
       "      <td>CLF</td>\n",
       "      <td>7.0300</td>\n",
       "      <td>0.0169</td>\n",
       "      <td>-0.9403</td>\n",
       "      <td>9</td>\n",
       "      <td>-0.9821</td>\n",
       "      <td>-2.9030</td>\n",
       "      <td>-0.9123</td>\n",
       "    </tr>\n",
       "  </tbody>\n",
       "</table>\n",
       "</div>"
      ],
      "text/plain": [
       "   ticker  adj_close  target  x_returns1y  x_returns_1y_rnk  \\\n",
       "78    CLF     7.0300  0.0169      -0.9403                 9   \n",
       "\n",
       "    x_returns_1y_sdmean  x_returns_1y_zscr  x_returns_1y_tsmooth  \n",
       "78              -0.9821            -2.9030               -0.9123  "
      ]
     },
     "execution_count": 234,
     "metadata": {},
     "output_type": "execute_result"
    }
   ],
   "source": [
    "smpl_day_1y_rets[smpl_day_1y_rets.ticker==\"CLF\"]"
   ]
  },
  {
   "cell_type": "code",
   "execution_count": 236,
   "id": "adc30ae4",
   "metadata": {},
   "outputs": [
    {
     "data": {
      "image/png": "[encoded data removed]",
      "text/plain": [
       "<Figure size 1008x360 with 4 Axes>"
      ]
     },
     "metadata": {
      "needs_background": "light"
     },
     "output_type": "display_data"
    }
   ],
   "source": [
    "fig, axs =plt.subplots(1,4, figsize=(14,5))\n",
    "\n",
    "ax=axs[0]\n",
    "smpl_day_1y_rets[\"x_returns_1y_sdmean\"].hist(ax=ax)\n",
    "\n",
    "ax=axs[1]\n",
    "smpl_day_1y_rets[\"x_returns_1y_rnk\"].hist(ax=ax)\n",
    "\n",
    "ax=axs[2]\n",
    "smpl_day_1y_rets[\"x_returns_1y_zscr\"].hist(ax=ax)\n",
    "\n",
    "ax=axs[3]\n",
    "smpl_day_1y_rets[\"x_returns_1y_tsmooth\"].hist(ax=ax)\n",
    "\n",
    "plt.show()"
   ]
  },
  {
   "cell_type": "markdown",
   "id": "0e87177f",
   "metadata": {},
   "source": [
    "## Correlation Analysis"
   ]
  },
  {
   "cell_type": "code",
   "execution_count": 172,
   "id": "b69ad9a3",
   "metadata": {
    "scrolled": true
   },
   "outputs": [
    {
     "data": {
      "text/plain": [
       "<AxesSubplot:xlabel='x_returns1y', ylabel='target'>"
      ]
     },
     "execution_count": 172,
     "metadata": {},
     "output_type": "execute_result"
    },
    {
     "data": {
      "image/png": "[encoded data removed]",
      "text/plain": [
       "<Figure size 864x432 with 1 Axes>"
      ]
     },
     "metadata": {
      "needs_background": "light"
     },
     "output_type": "display_data"
    }
   ],
   "source": [
    "wiki_prices.plot(kind='scatter', x='x_returns1y', y='target')"
   ]
  },
  {
   "cell_type": "code",
   "execution_count": 173,
   "id": "3994c80a",
   "metadata": {},
   "outputs": [
    {
     "data": {
      "text/html": [
       "<div>\n",
       "<style scoped>\n",
       "    .dataframe tbody tr th:only-of-type {\n",
       "        vertical-align: middle;\n",
       "    }\n",
       "\n",
       "    .dataframe tbody tr th {\n",
       "        vertical-align: top;\n",
       "    }\n",
       "\n",
       "    .dataframe thead th {\n",
       "        text-align: right;\n",
       "    }\n",
       "</style>\n",
       "<table border=\"1\" class=\"dataframe\">\n",
       "  <thead>\n",
       "    <tr style=\"text-align: right;\">\n",
       "      <th></th>\n",
       "      <th>x_returns1y</th>\n",
       "      <th>target</th>\n",
       "    </tr>\n",
       "  </thead>\n",
       "  <tbody>\n",
       "    <tr>\n",
       "      <th>x_returns1y</th>\n",
       "      <td>1.0000</td>\n",
       "      <td>0.0043</td>\n",
       "    </tr>\n",
       "    <tr>\n",
       "      <th>target</th>\n",
       "      <td>0.0043</td>\n",
       "      <td>1.0000</td>\n",
       "    </tr>\n",
       "  </tbody>\n",
       "</table>\n",
       "</div>"
      ],
      "text/plain": [
       "             x_returns1y  target\n",
       "x_returns1y       1.0000  0.0043\n",
       "target            0.0043  1.0000"
      ]
     },
     "execution_count": 173,
     "metadata": {},
     "output_type": "execute_result"
    }
   ],
   "source": [
    "wiki_prices[[\"x_returns1y\",\"target\"]].corr(method=\"spearman\") "
   ]
  },
  {
   "cell_type": "code",
   "execution_count": 237,
   "id": "96c00957",
   "metadata": {},
   "outputs": [],
   "source": [
    "corr_over_time=wiki_prices.groupby([\"date\"])[[\"x_returns1y\",\"target\"]].corr(method=\"spearman\").reset_index()"
   ]
  },
  {
   "cell_type": "code",
   "execution_count": 238,
   "id": "13388fcf",
   "metadata": {},
   "outputs": [],
   "source": [
    "corr_over_time=corr_over_time[corr_over_time.level_1==\"target\"][[\"date\" ,\"level_1\", \"x_returns1y\"]]"
   ]
  },
  {
   "cell_type": "code",
   "execution_count": 239,
   "id": "c33aa6d5",
   "metadata": {},
   "outputs": [
    {
     "data": {
      "text/html": [
       "<div>\n",
       "<style scoped>\n",
       "    .dataframe tbody tr th:only-of-type {\n",
       "        vertical-align: middle;\n",
       "    }\n",
       "\n",
       "    .dataframe tbody tr th {\n",
       "        vertical-align: top;\n",
       "    }\n",
       "\n",
       "    .dataframe thead th {\n",
       "        text-align: right;\n",
       "    }\n",
       "</style>\n",
       "<table border=\"1\" class=\"dataframe\">\n",
       "  <thead>\n",
       "    <tr style=\"text-align: right;\">\n",
       "      <th></th>\n",
       "      <th>date</th>\n",
       "      <th>level_1</th>\n",
       "      <th>x_returns1y</th>\n",
       "    </tr>\n",
       "  </thead>\n",
       "  <tbody>\n",
       "    <tr>\n",
       "      <th>1</th>\n",
       "      <td>2014-01-02</td>\n",
       "      <td>target</td>\n",
       "      <td>0.1803</td>\n",
       "    </tr>\n",
       "    <tr>\n",
       "      <th>3</th>\n",
       "      <td>2014-01-03</td>\n",
       "      <td>target</td>\n",
       "      <td>0.1314</td>\n",
       "    </tr>\n",
       "    <tr>\n",
       "      <th>5</th>\n",
       "      <td>2014-01-06</td>\n",
       "      <td>target</td>\n",
       "      <td>0.0732</td>\n",
       "    </tr>\n",
       "    <tr>\n",
       "      <th>7</th>\n",
       "      <td>2014-01-07</td>\n",
       "      <td>target</td>\n",
       "      <td>0.1520</td>\n",
       "    </tr>\n",
       "    <tr>\n",
       "      <th>9</th>\n",
       "      <td>2014-01-08</td>\n",
       "      <td>target</td>\n",
       "      <td>-0.0384</td>\n",
       "    </tr>\n",
       "    <tr>\n",
       "      <th>...</th>\n",
       "      <td>...</td>\n",
       "      <td>...</td>\n",
       "      <td>...</td>\n",
       "    </tr>\n",
       "    <tr>\n",
       "      <th>2007</th>\n",
       "      <td>2017-12-22</td>\n",
       "      <td>target</td>\n",
       "      <td>-0.1583</td>\n",
       "    </tr>\n",
       "    <tr>\n",
       "      <th>2009</th>\n",
       "      <td>2017-12-26</td>\n",
       "      <td>target</td>\n",
       "      <td>0.0470</td>\n",
       "    </tr>\n",
       "    <tr>\n",
       "      <th>2011</th>\n",
       "      <td>2017-12-27</td>\n",
       "      <td>target</td>\n",
       "      <td>0.0365</td>\n",
       "    </tr>\n",
       "    <tr>\n",
       "      <th>2013</th>\n",
       "      <td>2017-12-28</td>\n",
       "      <td>target</td>\n",
       "      <td>0.1192</td>\n",
       "    </tr>\n",
       "    <tr>\n",
       "      <th>2015</th>\n",
       "      <td>2017-12-29</td>\n",
       "      <td>target</td>\n",
       "      <td>0.1132</td>\n",
       "    </tr>\n",
       "  </tbody>\n",
       "</table>\n",
       "<p>1008 rows × 3 columns</p>\n",
       "</div>"
      ],
      "text/plain": [
       "            date level_1  x_returns1y\n",
       "1     2014-01-02  target       0.1803\n",
       "3     2014-01-03  target       0.1314\n",
       "5     2014-01-06  target       0.0732\n",
       "7     2014-01-07  target       0.1520\n",
       "9     2014-01-08  target      -0.0384\n",
       "...          ...     ...          ...\n",
       "2007  2017-12-22  target      -0.1583\n",
       "2009  2017-12-26  target       0.0470\n",
       "2011  2017-12-27  target       0.0365\n",
       "2013  2017-12-28  target       0.1192\n",
       "2015  2017-12-29  target       0.1132\n",
       "\n",
       "[1008 rows x 3 columns]"
      ]
     },
     "execution_count": 239,
     "metadata": {},
     "output_type": "execute_result"
    }
   ],
   "source": [
    "corr_over_time"
   ]
  },
  {
   "cell_type": "code",
   "execution_count": 240,
   "id": "3c7e28a2",
   "metadata": {},
   "outputs": [
    {
     "data": {
      "text/plain": [
       "0.045152965700817005"
      ]
     },
     "execution_count": 240,
     "metadata": {},
     "output_type": "execute_result"
    }
   ],
   "source": [
    "corr_over_time[\"x_returns1y\"].median()"
   ]
  },
  {
   "cell_type": "code",
   "execution_count": 241,
   "id": "7ecf9f16",
   "metadata": {},
   "outputs": [
    {
     "data": {
      "text/plain": [
       "<AxesSubplot:xlabel='date'>"
      ]
     },
     "execution_count": 241,
     "metadata": {},
     "output_type": "execute_result"
    },
    {
     "data": {
      "image/png": "[encoded data removed]",
      "text/plain": [
       "<Figure size 864x432 with 1 Axes>"
      ]
     },
     "metadata": {
      "needs_background": "light"
     },
     "output_type": "display_data"
    }
   ],
   "source": [
    "corr_over_time.plot(kind='line', x='date', y='x_returns1y')\n",
    "#plt.axline(0,corr_over_time[\"x_returns1y\"].median(), linewith=1.5, color=\"black\")\n",
    "\n",
    "\n",
    "#### no me deja pintar la mediana"
   ]
  },
  {
   "cell_type": "code",
   "execution_count": 242,
   "id": "901ffaa5",
   "metadata": {},
   "outputs": [],
   "source": [
    "corr_over_ticket=wiki_prices.groupby( level=\"ticker\" )[[\"x_returns1y\",\"target\"]].corr(method=\"spearman\").reset_index()"
   ]
  },
  {
   "cell_type": "code",
   "execution_count": 243,
   "id": "d26c4d81",
   "metadata": {},
   "outputs": [],
   "source": [
    "corr_over_ticket=corr_over_ticket[corr_over_ticket.level_1==\"x_returns1y\"][[\"ticker\" ,\"level_1\", \"target\"]].dropna()"
   ]
  },
  {
   "cell_type": "code",
   "execution_count": 244,
   "id": "f9ad7511",
   "metadata": {},
   "outputs": [
    {
     "data": {
      "text/plain": [
       "<AxesSubplot:xlabel='ticker'>"
      ]
     },
     "execution_count": 244,
     "metadata": {},
     "output_type": "execute_result"
    },
    {
     "data": {
      "image/png": "[encoded data removed]",
      "text/plain": [
       "<Figure size 864x432 with 1 Axes>"
      ]
     },
     "metadata": {
      "needs_background": "light"
     },
     "output_type": "display_data"
    }
   ],
   "source": [
    "corr_over_ticket.sort_values(\"target\").plot(x=\"ticker\", y=\"target\")\n"
   ]
  },
  {
   "cell_type": "code",
   "execution_count": 245,
   "id": "be6572da",
   "metadata": {},
   "outputs": [
    {
     "data": {
      "text/plain": [
       "<AxesSubplot:xlabel='ticker'>"
      ]
     },
     "execution_count": 245,
     "metadata": {},
     "output_type": "execute_result"
    },
    {
     "data": {
      "image/png": "[encoded data removed]",
      "text/plain": [
       "<Figure size 864x432 with 1 Axes>"
      ]
     },
     "metadata": {
      "needs_background": "light"
     },
     "output_type": "display_data"
    }
   ],
   "source": [
    "corr_over_ticket.sort_values(\"target\").iloc[0:50].plot(kind=\"bar\",x=\"ticker\", y=\"target\")\n"
   ]
  },
  {
   "cell_type": "code",
   "execution_count": 246,
   "id": "ec853a7c",
   "metadata": {},
   "outputs": [
    {
     "data": {
      "text/plain": [
       "<AxesSubplot:xlabel='ticker'>"
      ]
     },
     "execution_count": 246,
     "metadata": {},
     "output_type": "execute_result"
    },
    {
     "data": {
      "image/png": "[encoded data removed]",
      "text/plain": [
       "<Figure size 864x432 with 1 Axes>"
      ]
     },
     "metadata": {
      "needs_background": "light"
     },
     "output_type": "display_data"
    }
   ],
   "source": [
    "corr_over_ticket.sort_values(\"target\").iloc[-50:].plot(kind=\"bar\",x=\"ticker\", y=\"target\")\n"
   ]
  },
  {
   "cell_type": "code",
   "execution_count": null,
   "id": "56574dc1",
   "metadata": {},
   "outputs": [],
   "source": []
  },
  {
   "cell_type": "code",
   "execution_count": null,
   "id": "0a5d2215",
   "metadata": {},
   "outputs": [],
   "source": []
  }
 ],
 "metadata": {
  "kernelspec": {
   "display_name": "Python 3 (ipykernel)",
   "language": "python",
   "name": "python3"
  },
  "language_info": {
   "codemirror_mode": {
    "name": "ipython",
    "version": 3
   },
   "file_extension": ".py",
   "mimetype": "text/x-python",
   "name": "python",
   "nbconvert_exporter": "python",
   "pygments_lexer": "ipython3",
   "version": "3.8.5"
  },
  "toc": {
   "base_numbering": 1,
   "nav_menu": {},
   "number_sections": true,
   "sideBar": true,
   "skip_h1_title": false,
   "title_cell": "Table of Contents",
   "title_sidebar": "Contents",
   "toc_cell": false,
   "toc_position": {
    "height": "calc(100% - 180px)",
    "left": "10px",
    "top": "150px",
    "width": "293.991px"
   },
   "toc_section_display": true,
   "toc_window_display": true
  }
 },
 "nbformat": 4,
 "nbformat_minor": 5
}
